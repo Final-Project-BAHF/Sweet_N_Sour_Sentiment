{
 "cells": [
  {
   "cell_type": "markdown",
   "metadata": {},
   "source": [
    "# Sweet n Sour Sentiment on the Street\n",
    "Georgia Tech Data Science Bootcamp - Cohort 6\n",
    "Final Project\n",
    "Team Members:\n",
    "* Joseph Ayala\n",
    "* Andrew Behrman\n",
    "* Michael Fox\n",
    "* Michael Hankinson\n",
    "\n",
    "### Transcript Sentence Parser\n",
    "\n",
    "#### This notebook is designed to iterate through the call transcripts found in a MongoDb and parse the paragraphs into sentences."
   ]
  },
  {
   "cell_type": "code",
   "execution_count": 1,
   "metadata": {},
   "outputs": [],
   "source": [
    "import pymongo\n",
    "\n",
    "# Initialize PyMongo to work with MongoDBs\n",
    "conn = 'mongodb://localhost:27017'\n",
    "client = pymongo.MongoClient(conn)"
   ]
  },
  {
   "cell_type": "code",
   "execution_count": 2,
   "metadata": {},
   "outputs": [],
   "source": [
    "# Define database\n",
    "db = client.sweet_n_sour"
   ]
  },
  {
   "cell_type": "code",
   "execution_count": 3,
   "metadata": {},
   "outputs": [],
   "source": [
    "# get list of transcripts\n",
    "calls = db.many_call_transcripts.find()"
   ]
  },
  {
   "cell_type": "code",
   "execution_count": 6,
   "metadata": {},
   "outputs": [
    {
     "data": {
      "text/html": [
       "<div>\n",
       "<style scoped>\n",
       "    .dataframe tbody tr th:only-of-type {\n",
       "        vertical-align: middle;\n",
       "    }\n",
       "\n",
       "    .dataframe tbody tr th {\n",
       "        vertical-align: top;\n",
       "    }\n",
       "\n",
       "    .dataframe thead th {\n",
       "        text-align: right;\n",
       "    }\n",
       "</style>\n",
       "<table border=\"1\" class=\"dataframe\">\n",
       "  <thead>\n",
       "    <tr style=\"text-align: right;\">\n",
       "      <th></th>\n",
       "    </tr>\n",
       "  </thead>\n",
       "  <tbody>\n",
       "  </tbody>\n",
       "</table>\n",
       "</div>"
      ],
      "text/plain": [
       "Empty DataFrame\n",
       "Columns: []\n",
       "Index: []"
      ]
     },
     "execution_count": 6,
     "metadata": {},
     "output_type": "execute_result"
    }
   ],
   "source": [
    "from nltk.tokenize import sent_tokenize\n",
    "import pandas as pd\n",
    "import itertools\n",
    "int_id = itertools.count(0)\n",
    "\n",
    "# initialize dataframe to collect output\n",
    "df_sentences = pd.DataFrame()\n",
    "\n",
    "# iterate through each transcript record\n",
    "for call in calls:\n",
    "    print(f'\\n**** {call[\"ticker\"]} ****')\n",
    "    \n",
    "    # iterate through each paragraph in the transcript\n",
    "    for p in call['paragraphs']:\n",
    "          \n",
    "        # parse paragraph into sentences\n",
    "        arr_sentences = sent_tokenize(p['content'])\n",
    "          \n",
    "        # iterate through each sentence\n",
    "        sentence_collection = [{\n",
    "              'id': next(int_id),\n",
    "              'sentiment': '',\n",
    "              'sentence': s,\n",
    "              'ticker': call['ticker'],\n",
    "              'call_title': call['call_title'],\n",
    "              'speaker': p['speaker'],\n",
    "              'call_section': p['call_section']\n",
    "        } for s in arr_sentences]\n",
    "          \n",
    "        # append paragrah's sentences to dataframe\n",
    "        df_sentences = df_sentences.append(pd.DataFrame(sentence_collection))\n",
    "\n",
    "df_sentences.head()"
   ]
  },
  {
   "cell_type": "code",
   "execution_count": 7,
   "metadata": {},
   "outputs": [
    {
     "data": {
      "text/html": [
       "<div>\n",
       "<style scoped>\n",
       "    .dataframe tbody tr th:only-of-type {\n",
       "        vertical-align: middle;\n",
       "    }\n",
       "\n",
       "    .dataframe tbody tr th {\n",
       "        vertical-align: top;\n",
       "    }\n",
       "\n",
       "    .dataframe thead th {\n",
       "        text-align: right;\n",
       "    }\n",
       "</style>\n",
       "<table border=\"1\" class=\"dataframe\">\n",
       "  <thead>\n",
       "    <tr style=\"text-align: right;\">\n",
       "      <th></th>\n",
       "    </tr>\n",
       "  </thead>\n",
       "  <tbody>\n",
       "  </tbody>\n",
       "</table>\n",
       "</div>"
      ],
      "text/plain": [
       "Empty DataFrame\n",
       "Columns: []\n",
       "Index: []"
      ]
     },
     "execution_count": 7,
     "metadata": {},
     "output_type": "execute_result"
    }
   ],
   "source": [
    "df_sentences.tail()"
   ]
  },
  {
   "cell_type": "markdown",
   "metadata": {},
   "source": [
    "#### Write dataframe out to csv"
   ]
  },
  {
   "cell_type": "code",
   "execution_count": null,
   "metadata": {},
   "outputs": [],
   "source": [
    "# First output entire collection\n",
    "outfile = '../data/sentences_all.txt'\n",
    "df_sentences.to_csv(outfile, sep='|',index=False)\n"
   ]
  },
  {
   "cell_type": "code",
   "execution_count": null,
   "metadata": {},
   "outputs": [],
   "source": [
    "# get random sample of 3000 sentences with repeatable results\n",
    "\n",
    "df_sample_sentences = df_sentences.sample(n=3000,random_state=1)\n",
    "\n",
    "# check sample size\n",
    "print(f'Selected {len(df_sample_sentences)} sample sentences.')\n",
    "\n",
    "# output sample sentences to file\n",
    "sample_outfile = '../data/sentences_sample.txt'\n",
    "df_sample_sentences.to_csv(sample_outfile, sep='|', index=False)"
   ]
  },
  {
   "cell_type": "code",
   "execution_count": null,
   "metadata": {},
   "outputs": [],
   "source": []
  }
 ],
 "metadata": {
  "kernelspec": {
   "display_name": "Py36 (gtfinalproj)",
   "language": "python",
   "name": "gtfinalproj"
  },
  "language_info": {
   "codemirror_mode": {
    "name": "ipython",
    "version": 3
   },
   "file_extension": ".py",
   "mimetype": "text/x-python",
   "name": "python",
   "nbconvert_exporter": "python",
   "pygments_lexer": "ipython3",
   "version": "3.6.9"
  }
 },
 "nbformat": 4,
 "nbformat_minor": 2
}
