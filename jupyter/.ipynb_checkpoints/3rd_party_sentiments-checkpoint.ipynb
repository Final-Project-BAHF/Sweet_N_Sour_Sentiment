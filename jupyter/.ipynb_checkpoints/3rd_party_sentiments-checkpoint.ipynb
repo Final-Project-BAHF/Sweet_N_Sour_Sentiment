{
 "cells": [
  {
   "cell_type": "markdown",
   "metadata": {},
   "source": [
    "# Sweet n Sour Sentiment on the Street\n",
    "Georgia Tech Data Science Bootcamp - Cohort 6\n",
    "Final Project\n",
    "Team Members:\n",
    "* Joseph Ayala\n",
    "* Andrew Behrman\n",
    "* Michael Fox\n",
    "* Michael Hankinson\n",
    "\n",
    "### 3rd Party Sentiments\n",
    "\n",
    "#### This notebook is designed to iterate through the tabular call transcript data previously parsed and assign sentiment scores to each sentence using Google NLP and Vader Sentiment Analysis"
   ]
  },
  {
   "cell_type": "code",
   "execution_count": 14,
   "metadata": {},
   "outputs": [],
   "source": [
    "import pandas as pd\n"
   ]
  },
  {
   "cell_type": "code",
   "execution_count": 15,
   "metadata": {},
   "outputs": [],
   "source": [
    "\n",
    "# import SentimentIntensityAnalyzer class \n",
    "# from vaderSentiment.vaderSentiment module. \n",
    "from vaderSentiment.vaderSentiment import SentimentIntensityAnalyzer \n",
    "  \n",
    "# function to print sentiments \n",
    "# of the sentence. \n",
    "def sentiment_scores(sentence): \n",
    "  \n",
    "    # Create a SentimentIntensityAnalyzer object. \n",
    "    sid_obj = SentimentIntensityAnalyzer() \n",
    "  \n",
    "    # polarity_scores method of SentimentIntensityAnalyzer \n",
    "    # oject gives a sentiment dictionary. \n",
    "    # which contains pos, neg, neu, and compound scores. \n",
    "    sentiment_dict = sid_obj.polarity_scores(sentence) \n",
    "\n",
    "#     print(\"Overall sentiment dictionary is : \", sentiment_dict) \n",
    "#     print(\"sentence was rated as \", sentiment_dict['neg']*100, \"% Negative\") \n",
    "#     print(\"sentence was rated as \", sentiment_dict['neu']*100, \"% Neutral\") \n",
    "#     print(\"sentence was rated as \", sentiment_dict['pos']*100, \"% Positive\") \n",
    "  \n",
    "#     print(\"Sentence Overall Rated As\", end = \" \") \n",
    "  \n",
    "#     # decide sentiment as positive, negative and neutral \n",
    "#     if sentiment_dict['compound'] >= 0.05 : \n",
    "#         print(\"Positive\") \n",
    "  \n",
    "#     elif sentiment_dict['compound'] <= - 0.05 : \n",
    "#         print(\"Negative\") \n",
    "  \n",
    "#     else : \n",
    "#         print(\"Neutral\") \n",
    "\n",
    "    return sentiment_dict\n",
    "  "
   ]
  },
  {
   "cell_type": "code",
   "execution_count": 16,
   "metadata": {},
   "outputs": [
    {
     "data": {
      "text/html": [
       "<div>\n",
       "<style scoped>\n",
       "    .dataframe tbody tr th:only-of-type {\n",
       "        vertical-align: middle;\n",
       "    }\n",
       "\n",
       "    .dataframe tbody tr th {\n",
       "        vertical-align: top;\n",
       "    }\n",
       "\n",
       "    .dataframe thead th {\n",
       "        text-align: right;\n",
       "    }\n",
       "</style>\n",
       "<table border=\"1\" class=\"dataframe\">\n",
       "  <thead>\n",
       "    <tr style=\"text-align: right;\">\n",
       "      <th></th>\n",
       "      <th>id</th>\n",
       "      <th>sentiment</th>\n",
       "      <th>sentence</th>\n",
       "      <th>ticker</th>\n",
       "      <th>call_title</th>\n",
       "      <th>speaker</th>\n",
       "      <th>call_section</th>\n",
       "    </tr>\n",
       "  </thead>\n",
       "  <tbody>\n",
       "    <tr>\n",
       "      <th>0</th>\n",
       "      <td>0</td>\n",
       "      <td>NaN</td>\n",
       "      <td>Good evening, this is Michael Partridge, Seni...</td>\n",
       "      <td>VRTX</td>\n",
       "      <td>Vertex Pharmaceuticals Incorporated (NASDAQ:VR...</td>\n",
       "      <td>Michael Partridge</td>\n",
       "      <td>presentation</td>\n",
       "    </tr>\n",
       "    <tr>\n",
       "      <th>1</th>\n",
       "      <td>1</td>\n",
       "      <td>NaN</td>\n",
       "      <td>Tonight, we will review with you Vertex's busi...</td>\n",
       "      <td>VRTX</td>\n",
       "      <td>Vertex Pharmaceuticals Incorporated (NASDAQ:VR...</td>\n",
       "      <td>Michael Partridge</td>\n",
       "      <td>presentation</td>\n",
       "    </tr>\n",
       "    <tr>\n",
       "      <th>2</th>\n",
       "      <td>2</td>\n",
       "      <td>NaN</td>\n",
       "      <td>Making prepared remarks on the call tonight, w...</td>\n",
       "      <td>VRTX</td>\n",
       "      <td>Vertex Pharmaceuticals Incorporated (NASDAQ:VR...</td>\n",
       "      <td>Michael Partridge</td>\n",
       "      <td>presentation</td>\n",
       "    </tr>\n",
       "    <tr>\n",
       "      <th>3</th>\n",
       "      <td>3</td>\n",
       "      <td>NaN</td>\n",
       "      <td>We recommend that you access the webcast slide...</td>\n",
       "      <td>VRTX</td>\n",
       "      <td>Vertex Pharmaceuticals Incorporated (NASDAQ:VR...</td>\n",
       "      <td>Michael Partridge</td>\n",
       "      <td>presentation</td>\n",
       "    </tr>\n",
       "    <tr>\n",
       "      <th>4</th>\n",
       "      <td>4</td>\n",
       "      <td>NaN</td>\n",
       "      <td>This conference call is being recorded and a r...</td>\n",
       "      <td>VRTX</td>\n",
       "      <td>Vertex Pharmaceuticals Incorporated (NASDAQ:VR...</td>\n",
       "      <td>Michael Partridge</td>\n",
       "      <td>presentation</td>\n",
       "    </tr>\n",
       "  </tbody>\n",
       "</table>\n",
       "</div>"
      ],
      "text/plain": [
       "   id  sentiment                                           sentence ticker  \\\n",
       "0   0        NaN   Good evening, this is Michael Partridge, Seni...   VRTX   \n",
       "1   1        NaN  Tonight, we will review with you Vertex's busi...   VRTX   \n",
       "2   2        NaN  Making prepared remarks on the call tonight, w...   VRTX   \n",
       "3   3        NaN  We recommend that you access the webcast slide...   VRTX   \n",
       "4   4        NaN  This conference call is being recorded and a r...   VRTX   \n",
       "\n",
       "                                          call_title            speaker  \\\n",
       "0  Vertex Pharmaceuticals Incorporated (NASDAQ:VR...  Michael Partridge   \n",
       "1  Vertex Pharmaceuticals Incorporated (NASDAQ:VR...  Michael Partridge   \n",
       "2  Vertex Pharmaceuticals Incorporated (NASDAQ:VR...  Michael Partridge   \n",
       "3  Vertex Pharmaceuticals Incorporated (NASDAQ:VR...  Michael Partridge   \n",
       "4  Vertex Pharmaceuticals Incorporated (NASDAQ:VR...  Michael Partridge   \n",
       "\n",
       "   call_section  \n",
       "0  presentation  \n",
       "1  presentation  \n",
       "2  presentation  \n",
       "3  presentation  \n",
       "4  presentation  "
      ]
     },
     "execution_count": 16,
     "metadata": {},
     "output_type": "execute_result"
    }
   ],
   "source": [
    "# read in tabular transcript data\n",
    "df_transcripts = pd.read_csv('./hundred_sentences_all.txt',sep='|')\n",
    "df_transcripts.head()"
   ]
  },
  {
   "cell_type": "code",
   "execution_count": null,
   "metadata": {},
   "outputs": [],
   "source": [
    "# add new vader_sentiment column\n",
    "\n",
    "df_transcripts['vader_sentiment'] = df_transcripts['sentence'].apply(lambda x: sentiment_scores(x)['compound'])\n",
    "df_transcripts"
   ]
  },
  {
   "cell_type": "code",
   "execution_count": null,
   "metadata": {},
   "outputs": [],
   "source": [
    "# save results\n",
    "df_transcripts.to_csv('./hundred_sentences_all_vader.txt',sep='|')"
   ]
  },
  {
   "cell_type": "code",
   "execution_count": null,
   "metadata": {},
   "outputs": [],
   "source": []
  }
 ],
 "metadata": {
  "kernelspec": {
   "display_name": "Py36 (gtfinalproj)",
   "language": "python",
   "name": "gtfinalproj"
  },
  "language_info": {
   "codemirror_mode": {
    "name": "ipython",
    "version": 3
   },
   "file_extension": ".py",
   "mimetype": "text/x-python",
   "name": "python",
   "nbconvert_exporter": "python",
   "pygments_lexer": "ipython3",
   "version": "3.6.9"
  }
 },
 "nbformat": 4,
 "nbformat_minor": 2
}
