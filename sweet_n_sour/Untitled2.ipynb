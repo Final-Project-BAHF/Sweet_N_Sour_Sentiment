{
 "cells": [
  {
   "cell_type": "code",
   "execution_count": 1,
   "metadata": {},
   "outputs": [],
   "source": [
    "from numpy.random import seed\n",
    "seed(4)"
   ]
  },
  {
   "cell_type": "code",
   "execution_count": 2,
   "metadata": {},
   "outputs": [],
   "source": [
    "import os\n",
    "import math\n",
    "import nltk\n",
    "import numpy as np\n",
    "import pandas as pd\n",
    "import tensorflow as tf\n",
    "\n",
    "from sklearn.preprocessing import StandardScaler\n",
    "from tensorflow.keras.layers import Dense\n",
    "from tensorflow.keras.models import Sequential\n",
    "from tensorflow.keras.utils import to_categorical"
   ]
  },
  {
   "cell_type": "code",
   "execution_count": 3,
   "metadata": {},
   "outputs": [
    {
     "data": {
      "text/html": [
       "<div>\n",
       "<style scoped>\n",
       "    .dataframe tbody tr th:only-of-type {\n",
       "        vertical-align: middle;\n",
       "    }\n",
       "\n",
       "    .dataframe tbody tr th {\n",
       "        vertical-align: top;\n",
       "    }\n",
       "\n",
       "    .dataframe thead th {\n",
       "        text-align: right;\n",
       "    }\n",
       "</style>\n",
       "<table border=\"1\" class=\"dataframe\">\n",
       "  <thead>\n",
       "    <tr style=\"text-align: right;\">\n",
       "      <th></th>\n",
       "      <th>id</th>\n",
       "      <th>sentiment</th>\n",
       "      <th>sentence</th>\n",
       "      <th>ticker</th>\n",
       "      <th>call_title</th>\n",
       "      <th>speaker</th>\n",
       "      <th>call_section</th>\n",
       "    </tr>\n",
       "  </thead>\n",
       "  <tbody>\n",
       "    <tr>\n",
       "      <th>0</th>\n",
       "      <td>1</td>\n",
       "      <td>3</td>\n",
       "      <td>All participants will be in a listen-only mode.</td>\n",
       "      <td>CMG</td>\n",
       "      <td>Chipotle Mexican Grill, Inc. (NYSE:CMG) Q3 201...</td>\n",
       "      <td>Operator</td>\n",
       "      <td>operator_instruction</td>\n",
       "    </tr>\n",
       "    <tr>\n",
       "      <th>1</th>\n",
       "      <td>3</td>\n",
       "      <td>3</td>\n",
       "      <td>[Operator Instructions] Please note this event...</td>\n",
       "      <td>CMG</td>\n",
       "      <td>Chipotle Mexican Grill, Inc. (NYSE:CMG) Q3 201...</td>\n",
       "      <td>Operator</td>\n",
       "      <td>operator_instruction</td>\n",
       "    </tr>\n",
       "    <tr>\n",
       "      <th>2</th>\n",
       "      <td>4</td>\n",
       "      <td>3</td>\n",
       "      <td>I would now like to turn the conference over t...</td>\n",
       "      <td>CMG</td>\n",
       "      <td>Chipotle Mexican Grill, Inc. (NYSE:CMG) Q3 201...</td>\n",
       "      <td>Operator</td>\n",
       "      <td>operator_instruction</td>\n",
       "    </tr>\n",
       "    <tr>\n",
       "      <th>3</th>\n",
       "      <td>5</td>\n",
       "      <td>3</td>\n",
       "      <td>Please go ahead.</td>\n",
       "      <td>CMG</td>\n",
       "      <td>Chipotle Mexican Grill, Inc. (NYSE:CMG) Q3 201...</td>\n",
       "      <td>Operator</td>\n",
       "      <td>operator_instruction</td>\n",
       "    </tr>\n",
       "    <tr>\n",
       "      <th>4</th>\n",
       "      <td>6</td>\n",
       "      <td>3</td>\n",
       "      <td>Hello, everyone, and welcome to our third qua...</td>\n",
       "      <td>CMG</td>\n",
       "      <td>Chipotle Mexican Grill, Inc. (NYSE:CMG) Q3 201...</td>\n",
       "      <td>Ashish Kohli</td>\n",
       "      <td>presentation</td>\n",
       "    </tr>\n",
       "  </tbody>\n",
       "</table>\n",
       "</div>"
      ],
      "text/plain": [
       "   id  sentiment                                           sentence ticker  \\\n",
       "0   1          3    All participants will be in a listen-only mode.    CMG   \n",
       "1   3          3  [Operator Instructions] Please note this event...    CMG   \n",
       "2   4          3  I would now like to turn the conference over t...    CMG   \n",
       "3   5          3                                   Please go ahead.    CMG   \n",
       "4   6          3   Hello, everyone, and welcome to our third qua...    CMG   \n",
       "\n",
       "                                          call_title       speaker  \\\n",
       "0  Chipotle Mexican Grill, Inc. (NYSE:CMG) Q3 201...      Operator   \n",
       "1  Chipotle Mexican Grill, Inc. (NYSE:CMG) Q3 201...      Operator   \n",
       "2  Chipotle Mexican Grill, Inc. (NYSE:CMG) Q3 201...      Operator   \n",
       "3  Chipotle Mexican Grill, Inc. (NYSE:CMG) Q3 201...      Operator   \n",
       "4  Chipotle Mexican Grill, Inc. (NYSE:CMG) Q3 201...  Ashish Kohli   \n",
       "\n",
       "           call_section  \n",
       "0  operator_instruction  \n",
       "1  operator_instruction  \n",
       "2  operator_instruction  \n",
       "3  operator_instruction  \n",
       "4          presentation  "
      ]
     },
     "execution_count": 3,
     "metadata": {},
     "output_type": "execute_result"
    }
   ],
   "source": [
    "# pull in training and test data\n",
    "training_data_path = os.path.join('sentimentsamp.xls')\n",
    "test_data_path = os.path.join('sentimentsamp2.xls')\n",
    "\n",
    "alltrainingdata_df = pd.read_excel(training_data_path)\n",
    "alltestdata_df = pd.read_excel(test_data_path)\n",
    "\n",
    "alltrainingdata_df.head()"
   ]
  },
  {
   "cell_type": "code",
   "execution_count": 4,
   "metadata": {},
   "outputs": [
    {
     "data": {
      "text/plain": [
       "array([[0., 0., 0., 1., 0., 0.],\n",
       "       [0., 0., 0., 1., 0., 0.],\n",
       "       [0., 0., 0., 1., 0., 0.],\n",
       "       [0., 0., 0., 1., 0., 0.],\n",
       "       [0., 0., 0., 1., 0., 0.],\n",
       "       [0., 0., 0., 1., 0., 0.],\n",
       "       [0., 0., 0., 1., 0., 0.],\n",
       "       [0., 0., 0., 1., 0., 0.],\n",
       "       [0., 0., 0., 1., 0., 0.],\n",
       "       [0., 0., 0., 1., 0., 0.]], dtype=float32)"
      ]
     },
     "execution_count": 4,
     "metadata": {},
     "output_type": "execute_result"
    }
   ],
   "source": [
    "# extract label data\n",
    "y_train_df = pd.DataFrame(alltrainingdata_df['sentiment'])\n",
    "y_test_df = pd.DataFrame(alltestdata_df['sentiment'])\n",
    "\n",
    "y_train_categorical = to_categorical(y_train_df)\n",
    "y_test_categorical = to_categorical(y_test_df)\n",
    "\n",
    "y_train_categorical[:10]"
   ]
  },
  {
   "cell_type": "code",
   "execution_count": 5,
   "metadata": {},
   "outputs": [
    {
     "data": {
      "text/html": [
       "<div>\n",
       "<style scoped>\n",
       "    .dataframe tbody tr th:only-of-type {\n",
       "        vertical-align: middle;\n",
       "    }\n",
       "\n",
       "    .dataframe tbody tr th {\n",
       "        vertical-align: top;\n",
       "    }\n",
       "\n",
       "    .dataframe thead th {\n",
       "        text-align: right;\n",
       "    }\n",
       "</style>\n",
       "<table border=\"1\" class=\"dataframe\">\n",
       "  <thead>\n",
       "    <tr style=\"text-align: right;\">\n",
       "      <th></th>\n",
       "      <th>sentence</th>\n",
       "    </tr>\n",
       "  </thead>\n",
       "  <tbody>\n",
       "    <tr>\n",
       "      <th>0</th>\n",
       "      <td>All participants will be in a listen-only mode.</td>\n",
       "    </tr>\n",
       "    <tr>\n",
       "      <th>1</th>\n",
       "      <td>[Operator Instructions] Please note this event...</td>\n",
       "    </tr>\n",
       "    <tr>\n",
       "      <th>2</th>\n",
       "      <td>I would now like to turn the conference over t...</td>\n",
       "    </tr>\n",
       "    <tr>\n",
       "      <th>3</th>\n",
       "      <td>Please go ahead.</td>\n",
       "    </tr>\n",
       "    <tr>\n",
       "      <th>4</th>\n",
       "      <td>Hello, everyone, and welcome to our third qua...</td>\n",
       "    </tr>\n",
       "  </tbody>\n",
       "</table>\n",
       "</div>"
      ],
      "text/plain": [
       "                                            sentence\n",
       "0    All participants will be in a listen-only mode.\n",
       "1  [Operator Instructions] Please note this event...\n",
       "2  I would now like to turn the conference over t...\n",
       "3                                   Please go ahead.\n",
       "4   Hello, everyone, and welcome to our third qua..."
      ]
     },
     "execution_count": 5,
     "metadata": {},
     "output_type": "execute_result"
    }
   ],
   "source": [
    "# extract input data\n",
    "X_train_df = pd.DataFrame(alltrainingdata_df['sentence'])\n",
    "X_test_df = pd.DataFrame(alltestdata_df['sentence'])\n",
    "\n",
    "X_train_df.head()"
   ]
  },
  {
   "cell_type": "code",
   "execution_count": null,
   "metadata": {},
   "outputs": [],
   "source": [
    "ticker = []\n",
    "speaker = []\n",
    "call_section = []"
   ]
  },
  {
   "cell_type": "code",
   "execution_count": 8,
   "metadata": {},
   "outputs": [
    {
     "name": "stdout",
     "output_type": "stream",
     "text": [
      "[0 0 0 ... 6 6 6]\n"
     ]
    }
   ],
   "source": [
    "from sklearn import preprocessing\n",
    "\n",
    "le = preprocessing.LabelEncoder()\n",
    "feature_encoded = le.fit_transform(alltrainingdata_df['ticker'])\n",
    "print(feature_encoded)"
   ]
  },
  {
   "cell_type": "code",
   "execution_count": null,
   "metadata": {},
   "outputs": [],
   "source": []
  }
 ],
 "metadata": {
  "kernelspec": {
   "display_name": "Python 36(py36)",
   "language": "python",
   "name": "pythondata"
  },
  "language_info": {
   "codemirror_mode": {
    "name": "ipython",
    "version": 3
   },
   "file_extension": ".py",
   "mimetype": "text/x-python",
   "name": "python",
   "nbconvert_exporter": "python",
   "pygments_lexer": "ipython3",
   "version": "3.6.8"
  }
 },
 "nbformat": 4,
 "nbformat_minor": 2
}
