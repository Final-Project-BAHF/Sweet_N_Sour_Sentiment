{
 "cells": [
  {
   "cell_type": "code",
   "execution_count": 1,
   "metadata": {},
   "outputs": [],
   "source": [
    "# Dependencies\n",
    "import pandas as pd\n",
    "import pandas_datareader as web\n",
    "import datetime"
   ]
  },
  {
   "cell_type": "code",
   "execution_count": 2,
   "metadata": {},
   "outputs": [
    {
     "data": {
      "text/plain": [
       "['VRTX',\n",
       " 'D',\n",
       " 'WELL',\n",
       " 'ORCL',\n",
       " 'NTRS',\n",
       " 'RCL',\n",
       " 'REG',\n",
       " 'EQT',\n",
       " 'CFG',\n",
       " 'TSN',\n",
       " 'DVA',\n",
       " 'EVHC',\n",
       " 'CRM',\n",
       " 'MMC',\n",
       " 'BF.B',\n",
       " 'UNM',\n",
       " 'ADM',\n",
       " 'ETR',\n",
       " 'SCG',\n",
       " 'PX',\n",
       " 'GLW',\n",
       " 'BKNG',\n",
       " 'ROP',\n",
       " 'UDR',\n",
       " 'MDT',\n",
       " 'MSI',\n",
       " 'CBRE',\n",
       " 'NFLX',\n",
       " 'MLM',\n",
       " 'ANDV',\n",
       " 'AIZ',\n",
       " 'CMI',\n",
       " 'COF',\n",
       " 'IP',\n",
       " 'DE',\n",
       " 'KMX',\n",
       " 'SEE',\n",
       " 'SBUX',\n",
       " 'HRL',\n",
       " 'JNPR',\n",
       " 'AAP',\n",
       " 'AEE',\n",
       " 'ABT',\n",
       " 'MTD',\n",
       " 'TRV',\n",
       " 'BDX',\n",
       " 'PNR',\n",
       " 'LYB',\n",
       " 'JBHT',\n",
       " 'MO',\n",
       " 'INCY',\n",
       " 'SRCL',\n",
       " 'RTN',\n",
       " 'AMG',\n",
       " 'CCI',\n",
       " 'NRG',\n",
       " 'VMC',\n",
       " 'ESRX',\n",
       " 'AMT',\n",
       " 'LNC',\n",
       " 'XLNX',\n",
       " 'CL',\n",
       " 'ABBV',\n",
       " 'CLX',\n",
       " 'XEL',\n",
       " 'CMG',\n",
       " 'PFG',\n",
       " 'FOX',\n",
       " 'DUK',\n",
       " 'MA',\n",
       " 'MOS',\n",
       " 'HSIC',\n",
       " 'EOG',\n",
       " 'WMT',\n",
       " 'VAR',\n",
       " 'MET',\n",
       " 'CAG',\n",
       " 'ACN',\n",
       " 'DVN',\n",
       " 'VTR',\n",
       " 'NEM',\n",
       " 'NFX',\n",
       " 'BAC',\n",
       " 'CINF',\n",
       " 'MTB',\n",
       " 'AVB',\n",
       " 'VRSN',\n",
       " 'CNP',\n",
       " 'KSS',\n",
       " 'TWX',\n",
       " 'AMAT',\n",
       " 'NOV',\n",
       " 'LLY',\n",
       " 'M',\n",
       " 'MAR',\n",
       " 'ALK',\n",
       " 'PRU',\n",
       " 'IVZ',\n",
       " 'GM',\n",
       " 'UAA',\n",
       " 'WFC',\n",
       " 'TWTR',\n",
       " 'SBUX',\n",
       " 'CRM',\n",
       " 'AMZN',\n",
       " 'GE',\n",
       " 'CMG']"
      ]
     },
     "execution_count": 2,
     "metadata": {},
     "output_type": "execute_result"
    }
   ],
   "source": [
    "ticker_set_df = pd.read_csv('../../db/hundred_addl_stocks.csv',sep=',')\n",
    "ticker_set_df.head()\n",
    "tickers = ticker_set_df['0'].tolist()\n",
    "new_tickers = ['IVZ','GM','UAA','WFC','TWTR','SBUX','CRM','AMZN','GE','CMG']\n",
    "tickers = tickers + new_tickers\n",
    "tickers.remove('APC')\n",
    "tickers.remove('DWDP')\n",
    "tickers.remove('TMK')\n",
    "\n",
    "\n",
    "tickers\n"
   ]
  },
  {
   "cell_type": "code",
   "execution_count": null,
   "metadata": {},
   "outputs": [],
   "source": [
    "start = datetime.datetime(2019, 1, 1)\n",
    "end = datetime.datetime(2019, 11, 14)\n",
    "df_output = pd.DataFrame()\n",
    "for ticker in tickers:\n",
    "    try:\n",
    "        mydata = web.get_quote_yahoo(ticker)['marketCap']\n",
    "        df = pd.DataFrame(mydata)\n",
    "        df['ticker'] = ticker\n",
    "        df_output = df_output.append(df)\n",
    "    except KeyError:\n",
    "        pass\n",
    "df_output\n",
    "\n"
   ]
  },
  {
   "cell_type": "code",
   "execution_count": null,
   "metadata": {},
   "outputs": [],
   "source": [
    "df_output.to_csv('../../db/ticker_mktCap_test.csv', sep=',')\n",
    "\n",
    "\n"
   ]
  },
  {
   "cell_type": "code",
   "execution_count": null,
   "metadata": {},
   "outputs": [],
   "source": []
  },
  {
   "cell_type": "code",
   "execution_count": null,
   "metadata": {},
   "outputs": [],
   "source": []
  }
 ],
 "metadata": {
  "kernelspec": {
   "display_name": "PythonData",
   "language": "python",
   "name": "pythondata"
  },
  "language_info": {
   "codemirror_mode": {
    "name": "ipython",
    "version": 3
   },
   "file_extension": ".py",
   "mimetype": "text/x-python",
   "name": "python",
   "nbconvert_exporter": "python",
   "pygments_lexer": "ipython3",
   "version": "3.6.9"
  },
  "varInspector": {
   "cols": {
    "lenName": 16,
    "lenType": 16,
    "lenVar": 40
   },
   "kernels_config": {
    "python": {
     "delete_cmd_postfix": "",
     "delete_cmd_prefix": "del ",
     "library": "var_list.py",
     "varRefreshCmd": "print(var_dic_list())"
    },
    "r": {
     "delete_cmd_postfix": ") ",
     "delete_cmd_prefix": "rm(",
     "library": "var_list.r",
     "varRefreshCmd": "cat(var_dic_list()) "
    }
   },
   "types_to_exclude": [
    "module",
    "function",
    "builtin_function_or_method",
    "instance",
    "_Feature"
   ],
   "window_display": false
  }
 },
 "nbformat": 4,
 "nbformat_minor": 2
}
